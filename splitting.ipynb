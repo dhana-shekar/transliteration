{
 "cells": [
  {
   "cell_type": "code",
   "execution_count": 3,
   "id": "77216978",
   "metadata": {},
   "outputs": [],
   "source": [
    "import syllables"
   ]
  },
  {
   "cell_type": "code",
   "execution_count": 4,
   "id": "5b720e35",
   "metadata": {},
   "outputs": [],
   "source": [
    "list=(\"a\",\"e\",\"i\",\"o\",\"u\",\"y\")\n",
    "pos=[]\n",
    "#keeps track of vowel position\n",
    "text=input(\"enter a word:-\")\n",
    "syllables.estimate(text)\n",
    "strlen=len(text)\n",
    "for i in range (strlen):\n",
    "    if(text[i] in list):\n",
    "        pos.append(i+1)\n",
    "print(pos)\n"
   ]
  },
  {
   "cell_type": "code",
   "execution_count": 10,
   "id": "0c422a5e",
   "metadata": {},
   "outputs": [],
   "source": [
    "# if its not a compound word and vowels r 2 or more\n",
    "#word ends with le\n",
    "if(text[-2:]==\"le\"):\n",
    "    text=text[:-2]+\"#\"+text[-2:]\n",
    "    pos.delete[strlen]   # deleting the vowel position e, hence it is not considered for further tokenization\n",
    "    \n",
    "    \n",
    "#diapthongs\n",
    "\n",
    "\n",
    "for i in range(len(pos)-1):\n",
    "    if(pos[i+1]-pos[i]==3):\n",
    "        #vccv condition\n",
    "        if(text[pos[i]+2]=='r'):                                                        #r blend (meaning theres a r sound, )\n",
    "            text=text[:pos[i]+2]+\"#\"+text[pos[i]+2:]\n",
    "        elif(text[pos[i]:pos[i]+3]==\"ing\"or\"ink\"or\"ang\"or\"ost\"or\"olt\"or\"ind\"or\"ild\"or\"olt\"or\"ock\"):   #digraphs\n",
    "            text=text[:pos[i]+2]+\"#\"+text[pos[i]+2:]\n",
    "        else:\n",
    "            text=text[:pos[i]+1]+\"#\"+text[pos[i]+1:]\n",
    "             \n",
    "             \n",
    "    elif(pos[i+1]-pos[i]==2):\n",
    "        #vcv condition\n",
    "        #vc/v condition\n",
    "        text=text[:pos[i]+1]+\"#\"+text[pos[i]+1:]\n",
    "        #v/cv condition\n",
    "        text=text[:pos[i]]+\"#\"+text[pos[i]:]\n",
    "        \n",
    "    elif(pos[i+1]-pos[i]==4):\n",
    "        #vcccv condition ,first vowel is followed with glued sounds\n",
    "        if(text[pos[i]:text[pos[i]+4]]==\"old\"or\"ind\"or\"ild\"or\"ost\"or\"olt\"or\"ing\"or\"ink\"or\"ang\"or\"ock\"or\"ong\"or\"ung\"or\"onk\"or\"unk\"or\"ank\"):\n",
    "            text=text[:pos[i]+3]+\"#\"+text[pos[i]+3:]\n",
    "        else:\n",
    "            text=text[:pos[i]+1]+\"#\"+text[pos[i]+1:]\n",
    "        \n",
    "        \n",
    "    elif(pos[i+1]-pos[i]==5):\n",
    "        #vc/cccv condition\n",
    "        text=text[:pos[i]+1]+\"#\"+text[pos[i]+1:]\n",
    "        \n",
    "    elif(pos[i+1]-pos[i]==1):\n",
    "        # vowel teams, when they work together\n",
    "        if((text[pos[i]:pos[i]+2])==\"ai\"or\"ay\"or\"ea\"or\"ey\"or\"ee\"or\"ei\"or\"ie\"or\"oa\"or\"ue\"or\"eu\"):\n",
    "            text=text[:pos[i]+1]+\"#\"+text[pos[i]+1:]\n",
    "        else:\n",
    "            text=text[:pos[i]+1]+\"#\"+text[pos[i]+1:]\n",
    "    else:\n",
    "        print(\"\")\n",
    "        \n",
    "\n"
   ]
  },
  {
   "cell_type": "code",
   "execution_count": 14,
   "id": "25abaff9",
   "metadata": {},
   "outputs": [
    {
     "name": "stdout",
     "output_type": "stream",
     "text": [
      "ca#b#in\n"
     ]
    },
    {
     "data": {
      "text/plain": [
       "['ca', 'b', 'in']"
      ]
     },
     "execution_count": 14,
     "metadata": {},
     "output_type": "execute_result"
    }
   ],
   "source": [
    "print(text)\n",
    "text.split(\"#\")"
   ]
  },
  {
   "cell_type": "code",
   "execution_count": 10,
   "id": "307da338",
   "metadata": {},
   "outputs": [],
   "source": [
    "pos.clear()"
   ]
  },
  {
   "cell_type": "code",
   "execution_count": 15,
   "id": "bd5df763",
   "metadata": {},
   "outputs": [],
   "source": [
    "ipa_graphemesconsonants={\n",
    "    \"b\":\"b bb\",\n",
    "    \"d\":\"d dd ed\",\n",
    "    \"f\":\"f ff ph gh if ft\",\n",
    "    \"g\":\"g gg gh gu gue\",\n",
    "    \"h\":\"h wh\",\n",
    "    \"dʒ\":\"j ge g dge di gg\",\n",
    "    \"k\":\"k c ch cc lk qu ck x\",\n",
    "    \"i\":\"i ii\",\n",
    "    \"m\":\"m mm mb mn lm\",\n",
    "    \"n\":\"n nn kn gn pn mn\",\n",
    "    \"p\":\"p pp\",\n",
    "    \"r\":\"r rr wr rh\",\n",
    "    \"s\":\"s ss c sc ps st ce se\",\n",
    "    \"t\":\"t tt th ed\",\n",
    "    \"v\":\"v f ph ve\",\n",
    "    \"w\":\"w wh u o\",\n",
    "    \"z\":\"z zz s ss x ze se\",\n",
    "    \"ʒ\":\"s si z\",\n",
    "    \"tʃ\":\"ch tch tu ti te\",\n",
    "    \"ʃ\":\"sh ce s ci si ch sci ti\",\n",
    "    \"θ\":\"th\",\n",
    "    \"ð\":\"th\",\n",
    "    \"ŋ\":\"ng n ngue\",\n",
    "    \"j\":\"y i j \"\n",
    "}\n",
    "ipa_graphemesvowels={\n",
    "    \"æ\":\"a ai au\",\n",
    "    \"eɪ\":\"a ai eigh aigh ay er et ei au ea ey\",\n",
    "    \"e\":\"e ea u ie ai a eo ei ae\",\n",
    "    \"i:\":\"e ee ea y ey oe ie i ei eo ay\",\n",
    "    \"ɪ\":\"i e o u ui y ie\",\n",
    "    \"aɪ\":\"i y igh ie uy ye ai is eigh\",\n",
    "    \"ɒ\":\"a ho au aw ough\",\n",
    "    \"oʊ\":\"o oa oe ow ough eau oo ew\",\n",
    "    \"ʊ\":\"o oo u ou\",\n",
    "    \"ʌ\":\"u o oo ou\",\n",
    "    \"u:\":\"o oo ew ue oe ough ui oew ou\",\n",
    "    \"ɔɪ\":\"oi oy uoy\",\n",
    "    \"aʊ\":\"ow ou ough\",\n",
    "    \"ə\":\"a er i ar our ur\",\n",
    "    \"eəʳ\":\"air are ear ere eir ayer\",\n",
    "    \"ɑ:\":\"a\",\n",
    "    \"ɜ:ʳ\":\"ir er ur ear or our yr\",\n",
    "    \"ɔ:\":\"aw a or oor ore oar our augh ar ough au\",\n",
    "    \"ɪəʳ\":\"ear eer ere ier\",\n",
    "    \"ʊəʳ\":\"ure our\"\n",
    "}"
   ]
  },
  {
   "cell_type": "code",
   "execution_count": 2,
   "id": "c41f33c9",
   "metadata": {},
   "outputs": [],
   "source": []
  },
  {
   "cell_type": "code",
   "execution_count": null,
   "id": "b7046890",
   "metadata": {},
   "outputs": [],
   "source": []
  }
 ],
 "metadata": {
  "kernelspec": {
   "display_name": "Python 3 (ipykernel)",
   "language": "python",
   "name": "python3"
  },
  "language_info": {
   "codemirror_mode": {
    "name": "ipython",
    "version": 3
   },
   "file_extension": ".py",
   "mimetype": "text/x-python",
   "name": "python",
   "nbconvert_exporter": "python",
   "pygments_lexer": "ipython3",
   "version": "3.9.12"
  }
 },
 "nbformat": 4,
 "nbformat_minor": 5
}
