{
 "cells": [
  {
   "cell_type": "code",
   "execution_count": 1,
   "id": "77216978",
   "metadata": {},
   "outputs": [],
   "source": [
    "import syllables"
   ]
  },
  {
   "cell_type": "code",
   "execution_count": 2,
   "id": "5b720e35",
   "metadata": {},
   "outputs": [],
   "source": [
    "list=(\"a\",\"e\",\"i\",\"o\",\"u\",\"y\")"
   ]
  },
  {
   "cell_type": "code",
   "execution_count": 3,
   "id": "4d076b88",
   "metadata": {},
   "outputs": [],
   "source": [
    "pos=[]\n",
    "#keeps track of vowel position"
   ]
  },
  {
   "cell_type": "code",
   "execution_count": 4,
   "id": "bd329e10",
   "metadata": {},
   "outputs": [
    {
     "name": "stdout",
     "output_type": "stream",
     "text": [
      "enter a word:-gather\n"
     ]
    },
    {
     "data": {
      "text/plain": [
       "2"
      ]
     },
     "execution_count": 4,
     "metadata": {},
     "output_type": "execute_result"
    }
   ],
   "source": [
    "text=input(\"enter a word:-\")\n",
    "syllables.estimate(text)"
   ]
  },
  {
   "cell_type": "code",
   "execution_count": 5,
   "id": "657ff8a1",
   "metadata": {},
   "outputs": [],
   "source": [
    "strlen=len(text)"
   ]
  },
  {
   "cell_type": "code",
   "execution_count": 6,
   "id": "887d3276",
   "metadata": {},
   "outputs": [],
   "source": [
    "for i in range (strlen):\n",
    "    if(text[i] in list):\n",
    "        pos.append(i+1)\n",
    "    "
   ]
  },
  {
   "cell_type": "code",
   "execution_count": 7,
   "id": "fc68498c",
   "metadata": {},
   "outputs": [
    {
     "name": "stdout",
     "output_type": "stream",
     "text": [
      "[2, 5]\n"
     ]
    }
   ],
   "source": [
    "print(pos)\n"
   ]
  },
  {
   "cell_type": "code",
   "execution_count": 8,
   "id": "0c422a5e",
   "metadata": {},
   "outputs": [],
   "source": [
    "# if its not a compound word and vowels r 2 or more\n",
    "#word ends with le\n",
    "if(text[-2:]==\"le\"):\n",
    "    text=text[:-2]+\"#\"+text[-2:]\n",
    "    pos.delete[strlen]   # deleting the vowel position e, hence it is not considered for further tokenization\n",
    "    \n",
    "    \n",
    "#diapthongs\n",
    "\n",
    "\n",
    "for i in range(len(pos)-1):\n",
    "    if(pos[i+1]-pos[i]==3):\n",
    "        #vccv condition\n",
    "        if(text[pos[i]+2]=='r'):                                                        #r blend (meaning theres a r sound, )\n",
    "            text=text[:pos[i]+2]+\"#\"+text[pos[i]+2:]\n",
    "        elif(text[pos[i]:pos[i]+3]==\"ing\"or\"ink\"or\"ang\"or\"ost\"or\"olt\"or\"ind\"or\"ild\"or\"olt\"or\"ock\"):   #digraphs\n",
    "            text=text[:pos[i]+2]+\"#\"+text[pos[i]+2:]\n",
    "        else:\n",
    "            text=text[:pos[i]+1]+\"#\"+text[pos[i]+1:]\n",
    "             \n",
    "             \n",
    "    elif(pos[i+1]-pos[i]==2):\n",
    "        #vcv condition\n",
    "        #vc/v condition\n",
    "        \n",
    "        text=text[:pos[i]+1]+\"#\"+text[pos[i]+1:]\n",
    "        \n",
    "        \n",
    "        #v/cv condition\n",
    "        \n",
    "        \n",
    "        text=text[:pos[i]]+\"#\"+text[pos[i]:]\n",
    "        \n",
    "    elif(pos[i+1]-pos[i]==4):\n",
    "        #vcccv condition ,first vowel is followed with glued sounds\n",
    "        if(text[pos[i]:text[pos[i]+4]]==\"old\"or\"ind\"or\"ild\"or\"ost\"or\"olt\"or\"ing\"or\"ink\"or\"ang\"or\"ock\"or\"ong\"or\"ung\"or\"onk\"or\"unk\"or\"ank\"):\n",
    "            text=text[:pos[i]+3]+\"#\"+text[pos[i]+3:]\n",
    "        else:\n",
    "            text=text[:pos[i]+1]+\"#\"+text[pos[i]+1:]\n",
    "        \n",
    "        \n",
    "    elif(pos[i+1]-pos[i]==5):\n",
    "        #vc/cccv condition\n",
    "        text=text[:pos[i]+1]+\"#\"+text[pos[i]+1:]\n",
    "        \n",
    "    elif(pos[i+1]-pos[i]==1):\n",
    "        # vowel teams, when they work together\n",
    "        if((text[pos[i]:pos[i]+2])==\"ai\"or\"ay\"or\"ea\"or\"ey\"or\"ee\"or\"ei\"or\"ie\"or\"oa\"or\"ue\"or\"eu\"):\n",
    "            text=text[:pos[i]+1]+\"#\"+text[pos[i]+1:]\n",
    "        else:\n",
    "            text=text[:pos[i]+1]+\"#\"+text[pos[i]+1:]\n",
    "    else:\n",
    "        print(\" \")\n",
    "\n"
   ]
  },
  {
   "cell_type": "code",
   "execution_count": 9,
   "id": "25abaff9",
   "metadata": {},
   "outputs": [
    {
     "name": "stdout",
     "output_type": "stream",
     "text": [
      "gath#er\n"
     ]
    }
   ],
   "source": [
    "print(text)"
   ]
  },
  {
   "cell_type": "code",
   "execution_count": 10,
   "id": "307da338",
   "metadata": {},
   "outputs": [],
   "source": [
    "pos.clear()"
   ]
  },
  {
   "cell_type": "code",
   "execution_count": null,
   "id": "bd5df763",
   "metadata": {},
   "outputs": [],
   "source": []
  }
 ],
 "metadata": {
  "kernelspec": {
   "display_name": "Python 3 (ipykernel)",
   "language": "python",
   "name": "python3"
  },
  "language_info": {
   "codemirror_mode": {
    "name": "ipython",
    "version": 3
   },
   "file_extension": ".py",
   "mimetype": "text/x-python",
   "name": "python",
   "nbconvert_exporter": "python",
   "pygments_lexer": "ipython3",
   "version": "3.9.12"
  }
 },
 "nbformat": 4,
 "nbformat_minor": 5
}
