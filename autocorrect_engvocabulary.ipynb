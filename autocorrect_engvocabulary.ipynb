{
 "cells": [
  {
   "cell_type": "code",
   "execution_count": 1,
   "id": "bde74d87",
   "metadata": {},
   "outputs": [],
   "source": [
    "import re\n",
    "import string\n",
    "from collections import Counter\n",
    "import numpy as np"
   ]
  },
  {
   "cell_type": "code",
   "execution_count": 2,
   "id": "9cb8f141",
   "metadata": {},
   "outputs": [],
   "source": [
    "def read_corpus(filename):\n",
    "  with open(filename, \"r\",encoding='utf-8') as file:\n",
    "    lines = file.readlines()\n",
    "    words = []\n",
    "    for line in lines:\n",
    "      words += re.findall(r'\\w+', line.lower())\n",
    "\n",
    "  return words"
   ]
  },
  {
   "cell_type": "code",
   "execution_count": 4,
   "id": "9536da58",
   "metadata": {},
   "outputs": [
    {
     "name": "stdout",
     "output_type": "stream",
     "text": [
      "There are 2855635 total words in the corpus\n"
     ]
    }
   ],
   "source": [
    "words = read_corpus(r\"C:\\Users\\Dhanashekar\\Desktop\\engvocab.txt\")\n",
    "print(f\"There are {len(words)} total words in the corpus\")"
   ]
  },
  {
   "cell_type": "code",
   "execution_count": 5,
   "id": "fb57ba8f",
   "metadata": {},
   "outputs": [
    {
     "name": "stdout",
     "output_type": "stream",
     "text": [
      "There are 59993 unique words in the vocabulary\n"
     ]
    }
   ],
   "source": [
    "vocabs = set(words)\n",
    "print(f\"There are {len(vocabs)} unique words in the vocabulary\")"
   ]
  },
  {
   "cell_type": "code",
   "execution_count": 6,
   "id": "0cfaca16",
   "metadata": {},
   "outputs": [
    {
     "name": "stdout",
     "output_type": "stream",
     "text": [
      "938\n"
     ]
    }
   ],
   "source": [
    "word_counts = Counter(words)\n",
    "print(word_counts[\"love\"])"
   ]
  },
  {
   "cell_type": "code",
   "execution_count": 7,
   "id": "0a31b25e",
   "metadata": {},
   "outputs": [],
   "source": [
    "total_word_count = float(sum(word_counts.values()))\n",
    "word_probas = {word: word_counts[word] / total_word_count for word in word_counts.keys()}"
   ]
  },
  {
   "cell_type": "code",
   "execution_count": 8,
   "id": "64d9d49e",
   "metadata": {},
   "outputs": [
    {
     "name": "stdout",
     "output_type": "stream",
     "text": [
      "[('', 'answer'), ('a', 'nswer'), ('an', 'swer'), ('ans', 'wer'), ('answ', 'er'), ('answe', 'r'), ('answer', '')]\n",
      "['nswer', 'aswer', 'anwer', 'anser', 'answr', 'answe']\n",
      "['naswer', 'asnwer', 'anwser', 'ansewr', 'answre']\n"
     ]
    }
   ],
   "source": [
    "def split(word):\n",
    "  return [(word[:i], word[i:]) for i in range(len(word) + 1)]\n",
    "print(split(\"answer\"))\n",
    "\n",
    "def delete(word):\n",
    "  return [l + r[1:] for l,r in split(word) if r]\n",
    "print(delete(\"answer\"))\n",
    "\n",
    "def swap(word):\n",
    "  return [l + r[1] + r[0] + r[2:] for l, r in split(word) if len(r)>1]\n",
    "print(swap(\"answer\"))"
   ]
  },
  {
   "cell_type": "code",
   "execution_count": 9,
   "id": "5ab2a447",
   "metadata": {},
   "outputs": [
    {
     "data": {
      "text/plain": [
       "'abcdefghijklmnopqrstuvwxyz'"
      ]
     },
     "execution_count": 9,
     "metadata": {},
     "output_type": "execute_result"
    }
   ],
   "source": [
    "string.ascii_lowercase"
   ]
  },
  {
   "cell_type": "code",
   "execution_count": 10,
   "id": "1939ae81",
   "metadata": {},
   "outputs": [
    {
     "name": "stdout",
     "output_type": "stream",
     "text": [
      "['answer', 'bnswer', 'cnswer', 'dnswer', 'enswer', 'fnswer', 'gnswer', 'hnswer', 'inswer', 'jnswer', 'knswer', 'lnswer', 'mnswer', 'nnswer', 'onswer', 'pnswer', 'qnswer', 'rnswer', 'snswer', 'tnswer', 'unswer', 'vnswer', 'wnswer', 'xnswer', 'ynswer', 'znswer', 'aaswer', 'abswer', 'acswer', 'adswer', 'aeswer', 'afswer', 'agswer', 'ahswer', 'aiswer', 'ajswer', 'akswer', 'alswer', 'amswer', 'answer', 'aoswer', 'apswer', 'aqswer', 'arswer', 'asswer', 'atswer', 'auswer', 'avswer', 'awswer', 'axswer', 'ayswer', 'azswer', 'anawer', 'anbwer', 'ancwer', 'andwer', 'anewer', 'anfwer', 'angwer', 'anhwer', 'aniwer', 'anjwer', 'ankwer', 'anlwer', 'anmwer', 'annwer', 'anower', 'anpwer', 'anqwer', 'anrwer', 'answer', 'antwer', 'anuwer', 'anvwer', 'anwwer', 'anxwer', 'anywer', 'anzwer', 'ansaer', 'ansber', 'anscer', 'ansder', 'anseer', 'ansfer', 'ansger', 'ansher', 'ansier', 'ansjer', 'ansker', 'ansler', 'ansmer', 'ansner', 'ansoer', 'ansper', 'ansqer', 'ansrer', 'ansser', 'anster', 'ansuer', 'ansver', 'answer', 'ansxer', 'ansyer', 'anszer', 'answar', 'answbr', 'answcr', 'answdr', 'answer', 'answfr', 'answgr', 'answhr', 'answir', 'answjr', 'answkr', 'answlr', 'answmr', 'answnr', 'answor', 'answpr', 'answqr', 'answrr', 'answsr', 'answtr', 'answur', 'answvr', 'answwr', 'answxr', 'answyr', 'answzr', 'answea', 'answeb', 'answec', 'answed', 'answee', 'answef', 'answeg', 'answeh', 'answei', 'answej', 'answek', 'answel', 'answem', 'answen', 'answeo', 'answep', 'answeq', 'answer', 'answes', 'answet', 'answeu', 'answev', 'answew', 'answex', 'answey', 'answez']\n",
      "['aanswer', 'banswer', 'canswer', 'danswer', 'eanswer', 'fanswer', 'ganswer', 'hanswer', 'ianswer', 'janswer', 'kanswer', 'lanswer', 'manswer', 'nanswer', 'oanswer', 'panswer', 'qanswer', 'ranswer', 'sanswer', 'tanswer', 'uanswer', 'vanswer', 'wanswer', 'xanswer', 'yanswer', 'zanswer', 'aanswer', 'abnswer', 'acnswer', 'adnswer', 'aenswer', 'afnswer', 'agnswer', 'ahnswer', 'ainswer', 'ajnswer', 'aknswer', 'alnswer', 'amnswer', 'annswer', 'aonswer', 'apnswer', 'aqnswer', 'arnswer', 'asnswer', 'atnswer', 'aunswer', 'avnswer', 'awnswer', 'axnswer', 'aynswer', 'aznswer', 'anaswer', 'anbswer', 'ancswer', 'andswer', 'aneswer', 'anfswer', 'angswer', 'anhswer', 'aniswer', 'anjswer', 'ankswer', 'anlswer', 'anmswer', 'annswer', 'anoswer', 'anpswer', 'anqswer', 'anrswer', 'ansswer', 'antswer', 'anuswer', 'anvswer', 'anwswer', 'anxswer', 'anyswer', 'anzswer', 'ansawer', 'ansbwer', 'anscwer', 'ansdwer', 'ansewer', 'ansfwer', 'ansgwer', 'anshwer', 'ansiwer', 'ansjwer', 'anskwer', 'anslwer', 'ansmwer', 'ansnwer', 'ansower', 'anspwer', 'ansqwer', 'ansrwer', 'ansswer', 'anstwer', 'ansuwer', 'ansvwer', 'answwer', 'ansxwer', 'ansywer', 'anszwer', 'answaer', 'answber', 'answcer', 'answder', 'answeer', 'answfer', 'answger', 'answher', 'answier', 'answjer', 'answker', 'answler', 'answmer', 'answner', 'answoer', 'answper', 'answqer', 'answrer', 'answser', 'answter', 'answuer', 'answver', 'answwer', 'answxer', 'answyer', 'answzer', 'answear', 'answebr', 'answecr', 'answedr', 'answeer', 'answefr', 'answegr', 'answehr', 'answeir', 'answejr', 'answekr', 'answelr', 'answemr', 'answenr', 'answeor', 'answepr', 'answeqr', 'answerr', 'answesr', 'answetr', 'answeur', 'answevr', 'answewr', 'answexr', 'answeyr', 'answezr', 'answera', 'answerb', 'answerc', 'answerd', 'answere', 'answerf', 'answerg', 'answerh', 'answeri', 'answerj', 'answerk', 'answerl', 'answerm', 'answern', 'answero', 'answerp', 'answerq', 'answerr', 'answers', 'answert', 'answeru', 'answerv', 'answerw', 'answerx', 'answery', 'answerz']\n"
     ]
    }
   ],
   "source": [
    "def replace(word):\n",
    "  letters = string.ascii_lowercase\n",
    "  return [l + c + r[1:] for l, r in split(word) if r for c in letters]\n",
    "          \n",
    "\n",
    "print(replace(\"answer\"))\n",
    "\n",
    "def insert(word):\n",
    "  letters = string.ascii_lowercase\n",
    "  return [l + c + r for l, r in split(word) for c in letters]\n",
    "\n",
    "print(insert(\"answer\"))"
   ]
  },
  {
   "cell_type": "code",
   "execution_count": null,
   "id": "4db53aaa",
   "metadata": {},
   "outputs": [],
   "source": [
    "def edit1(word):\n",
    "  return set(delete(word) + swap(word) + replace(word) + insert(word))\n",
    "\n",
    "print(edit1(\"answer\"))\n",
    "\n",
    " \n",
    "def edit2(word):\n",
    "  return set(e2 for e1 in edit1(word) for e2 in edit1(e1))\n",
    "\n",
    "print(edit2(\"answer\"))"
   ]
  },
  {
   "cell_type": "code",
   "execution_count": null,
   "id": "bc7a744b",
   "metadata": {},
   "outputs": [],
   "source": [
    "def correct_spelling(word, vocabulary, word_probabilities):\n",
    "  if word in vocabulary:\n",
    "    print(f\"{word} is already correctly spelt\")\n",
    "    return \n",
    "\n",
    "  suggestions = edit1(word) or edit2(word) or [word]\n",
    "  best_guesses = [w for w in suggestions if w in vocabulary]\n",
    "  return [(w, word_probabilities[w]) for w in best_guesses]\n"
   ]
  },
  {
   "cell_type": "code",
   "execution_count": null,
   "id": "6e2b1bcd",
   "metadata": {},
   "outputs": [],
   "source": [
    "word = \"bauty\"\n",
    "corrections = correct_spelling(word, vocabs, word_probas)\n",
    "\n",
    "if corrections:\n",
    "  print(corrections)\n",
    "  probs = np.array([c[1] for c in corrections])\n",
    "  best_ix = np.argmax(probs)\n",
    "  correct = corrections[best_ix][0]\n",
    "  print(f\"{correct} is suggested for {word}\")"
   ]
  },
  {
   "cell_type": "code",
   "execution_count": null,
   "id": "1d6ab94f",
   "metadata": {},
   "outputs": [],
   "source": [
    "class SpellChecker(object):\n",
    "\n",
    "  def __init__(self, corpus_file_path):\n",
    "    with open(corpus_file_path, \"r\",encoding=\"utf-8\") as file:\n",
    "      lines = file.readlines()\n",
    "      words = []\n",
    "      for line in lines:\n",
    "        words += re.findall(r'\\w+', line.lower())\n",
    "\n",
    "    self.vocabs = set(words)\n",
    "    self.word_counts = Counter(words)\n",
    "    total_words = float(sum(self.word_counts.values()))\n",
    "    self.word_probas = {word: self.word_counts[word] / total_words for word in self.vocabs}\n",
    "\n",
    "  def _level_one_edits(self, word):\n",
    "    letters = string.ascii_lowercase\n",
    "    splits = [(word[:i], word[i:]) for i in range(len(word) + 1)]\n",
    "    deletes = [l + r[1:] for l,r in splits if r]\n",
    "    swaps = [l + r[1] + r[0] + r[2:] for l, r in splits if len(r)>1]\n",
    "    replaces = [l + c + r[1:] for l, r in splits if r for c in letters]\n",
    "    inserts = [l + c + r for l, r in splits for c in letters] \n",
    "\n",
    "    return set(deletes + swaps + replaces + inserts)\n",
    "\n",
    "  def _level_two_edits(self, word):\n",
    "    return set(e2 for e1 in self._level_one_edits(word) for e2 in self._level_one_edits(e1))\n",
    "\n",
    "  def check(self, word):\n",
    "    candidates = self._level_one_edits(word) or self._level_two_edits(word) or [word]\n",
    "    valid_candidates = [w for w in candidates if w in self.vocabs]\n",
    "    return sorted([(c, self.word_probas[c]) for c in valid_candidates], key=lambda tup: tup[1], reverse=True)"
   ]
  },
  {
   "cell_type": "code",
   "execution_count": null,
   "id": "fb3e52f3",
   "metadata": {},
   "outputs": [],
   "source": [
    "checker = SpellChecker(r\"C:\\Users\\Dhanashekar\\Desktop\\engvocab.txt\")"
   ]
  },
  {
   "cell_type": "code",
   "execution_count": null,
   "id": "09652f03",
   "metadata": {},
   "outputs": [],
   "source": [
    "checker.check(\"mantal\")"
   ]
  },
  {
   "cell_type": "code",
   "execution_count": null,
   "id": "9e64952e",
   "metadata": {},
   "outputs": [],
   "source": []
  },
  {
   "cell_type": "code",
   "execution_count": null,
   "id": "ee181f60",
   "metadata": {},
   "outputs": [],
   "source": []
  },
  {
   "cell_type": "code",
   "execution_count": null,
   "id": "174c7c89",
   "metadata": {},
   "outputs": [],
   "source": []
  }
 ],
 "metadata": {
  "kernelspec": {
   "display_name": "Python 3 (ipykernel)",
   "language": "python",
   "name": "python3"
  },
  "language_info": {
   "codemirror_mode": {
    "name": "ipython",
    "version": 3
   },
   "file_extension": ".py",
   "mimetype": "text/x-python",
   "name": "python",
   "nbconvert_exporter": "python",
   "pygments_lexer": "ipython3",
   "version": "3.9.12"
  }
 },
 "nbformat": 4,
 "nbformat_minor": 5
}
